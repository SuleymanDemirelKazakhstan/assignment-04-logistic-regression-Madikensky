{
 "cells": [
  {
   "cell_type": "code",
   "execution_count": 1,
   "metadata": {},
   "outputs": [],
   "source": [
    "import pandas as pd\n",
    "import nltk\n",
    "from nltk.corpus import stopwords\n",
    "from nltk.tokenize import word_tokenize\n",
    "from collections import Counter\n",
    "from nltk.util import ngrams\n",
    "import re\n"
   ]
  },
  {
   "cell_type": "code",
   "execution_count": 2,
   "metadata": {},
   "outputs": [
    {
     "name": "stderr",
     "output_type": "stream",
     "text": [
      "[nltk_data] Downloading package punkt to /home/xan/nltk_data...\n",
      "[nltk_data]   Package punkt is already up-to-date!\n",
      "[nltk_data] Downloading package stopwords to /home/xan/nltk_data...\n",
      "[nltk_data]   Package stopwords is already up-to-date!\n"
     ]
    },
    {
     "data": {
      "text/plain": [
       "True"
      ]
     },
     "execution_count": 2,
     "metadata": {},
     "output_type": "execute_result"
    }
   ],
   "source": [
    "nltk.download('punkt')  \n",
    "nltk.download('stopwords')  "
   ]
  },
  {
   "cell_type": "code",
   "execution_count": 3,
   "metadata": {},
   "outputs": [],
   "source": [
    "# TASK A\n",
    "data = pd.read_csv('train.csv')\n",
    "disasterTweets = data[data['sentiment'] == 'positive']\n",
    "normalTweets = data[data['sentiment'] == 'negative']\n"
   ]
  },
  {
   "cell_type": "code",
   "execution_count": 5,
   "metadata": {},
   "outputs": [],
   "source": [
    "def lemmatize_text(text):\n",
    "    # nltk.download('wordnet')  \n",
    "    lemmatizer = nltk.WordNetLemmatizer()\n",
    "    tokens = word_tokenize(text.lower())  \n",
    "    return [lemmatizer.lemmatize(token) for token in tokens]\n",
    "\n",
    "disaster_lemmatized = disasterTweets['review'].apply(lemmatize_text)\n",
    "normal_lemmatized = normalTweets['review'].apply(lemmatize_text)\n"
   ]
  },
  {
   "cell_type": "code",
   "execution_count": 6,
   "metadata": {},
   "outputs": [],
   "source": [
    "disaster_word_counts = Counter()\n",
    "for doc in disaster_lemmatized:\n",
    "    disaster_word_counts.update(doc)\n",
    "\n",
    "normal_word_counts = Counter()\n",
    "for doc in normal_lemmatized:\n",
    "    normal_word_counts.update(doc)\n"
   ]
  },
  {
   "cell_type": "code",
   "execution_count": 7,
   "metadata": {},
   "outputs": [
    {
     "name": "stdout",
     "output_type": "stream",
     "text": [
      "Top 20 Words (Disaster):\n",
      "[('the', 270822), (',', 224874), ('.', 185001), ('a', 171211), ('and', 140884), ('of', 121152), ('to', 104607), ('is', 91226), ('it', 82089), ('in', 78582), ('/', 77967), ('>', 77849), ('<', 77783), ('br', 77754), ('i', 64626), ('that', 55412), ('this', 55297), (\"'s\", 50786), ('film', 38435), ('with', 36492)]\n",
      "Top 20 Words (Normal):\n",
      "[('the', 261406), (',', 209886), ('.', 187369), ('a', 159126), ('and', 117985), ('of', 110122), ('to', 109426), ('/', 83091), ('>', 82985), ('<', 82938), ('br', 82900), ('is', 82287), ('it', 81345), ('i', 74405), ('in', 69840), ('this', 65008), ('that', 59420), (\"'s\", 47238), ('movie', 45174), ('wa', 44364)]\n"
     ]
    }
   ],
   "source": [
    "top_disaster_words = disaster_word_counts.most_common(20)\n",
    "top_normal_words = normal_word_counts.most_common(20)\n",
    "\n",
    "print(\"Top 20 Words (Disaster):\")\n",
    "print(top_disaster_words)\n",
    "\n",
    "print(\"Top 20 Words (Normal):\")\n",
    "print(top_normal_words)\n"
   ]
  },
  {
   "cell_type": "code",
   "execution_count": 8,
   "metadata": {},
   "outputs": [],
   "source": [
    "def find_ngrams(text, n):\n",
    "    return ngrams(text, n)\n",
    "\n",
    "disaster_bigrams = Counter()\n",
    "disaster_trigrams = Counter()\n",
    "\n",
    "for doc in disaster_lemmatized:\n",
    "    disaster_bigrams.update(find_ngrams(doc, 2))\n",
    "    disaster_trigrams.update(find_ngrams(doc, 3))\n",
    "\n",
    "normal_bigrams = Counter()\n",
    "normal_trigrams = Counter()\n",
    "\n",
    "for doc in normal_lemmatized:\n",
    "    normal_bigrams.update(find_ngrams(doc, 2))\n",
    "    normal_trigrams.update(find_ngrams(doc, 3))\n",
    "\n"
   ]
  },
  {
   "cell_type": "markdown",
   "metadata": {},
   "source": []
  },
  {
   "cell_type": "code",
   "execution_count": 18,
   "metadata": {},
   "outputs": [
    {
     "name": "stderr",
     "output_type": "stream",
     "text": [
      "/tmp/ipykernel_17825/283658870.py:22: SettingWithCopyWarning: \n",
      "A value is trying to be set on a copy of a slice from a DataFrame.\n",
      "Try using .loc[row_indexer,col_indexer] = value instead\n",
      "\n",
      "See the caveats in the documentation: https://pandas.pydata.org/pandas-docs/stable/user_guide/indexing.html#returning-a-view-versus-a-copy\n",
      "  disasterTweets['processed_text'] = disasterTweets['review'].apply(preprocess_text)\n",
      "/tmp/ipykernel_17825/283658870.py:23: SettingWithCopyWarning: \n",
      "A value is trying to be set on a copy of a slice from a DataFrame.\n",
      "Try using .loc[row_indexer,col_indexer] = value instead\n",
      "\n",
      "See the caveats in the documentation: https://pandas.pydata.org/pandas-docs/stable/user_guide/indexing.html#returning-a-view-versus-a-copy\n",
      "  normalTweets['processed_text'] = normalTweets['review'].apply(preprocess_text)\n"
     ]
    }
   ],
   "source": [
    "# TASK B\n",
    "def remove_special_chars(text):\n",
    "    pattern = r\"[^a-zA-Z0-9\\s]\"  \n",
    "    return re.sub(pattern, '', text)\n",
    "\n",
    "stop_words = set(stopwords.words('english'))\n",
    "\n",
    "def remove_stopwords(text):\n",
    "    words = word_tokenize(text)\n",
    "    return ' '.join([word for word in words if word not in stop_words])\n",
    "\n",
    "def remove_mentions(text):\n",
    "    pattern = r\"@\\w+\"  \n",
    "    return re.sub(pattern, '', text)\n",
    "\n",
    "def preprocess_text(text):\n",
    "    text = remove_special_chars(text.lower())  \n",
    "    text = remove_mentions(text)  \n",
    "    text = remove_stopwords(text)  \n",
    "    return text\n",
    "\n",
    "disasterTweets['processed_text'] = disasterTweets['review'].apply(preprocess_text)\n",
    "normalTweets['processed_text'] = normalTweets['review'].apply(preprocess_text)\n"
   ]
  },
  {
   "cell_type": "code",
   "execution_count": 31,
   "metadata": {},
   "outputs": [
    {
     "name": "stdout",
     "output_type": "stream",
     "text": [
      "Max Features: 100\n",
      "Accuracy: 0.7343\n",
      "F1-Score: 0.7373\n",
      "Recall: 0.7479\n",
      "------------------------------\n",
      "Max Features: 200\n",
      "Accuracy: 0.7799\n",
      "F1-Score: 0.7836\n",
      "Recall: 0.7995\n",
      "------------------------------\n",
      "Max Features: 300\n",
      "Accuracy: 0.8160\n",
      "F1-Score: 0.8184\n",
      "Recall: 0.8317\n",
      "------------------------------\n",
      "Max Features: 400\n",
      "Accuracy: 0.8369\n",
      "F1-Score: 0.8389\n",
      "Recall: 0.8517\n",
      "------------------------------\n",
      "Max Features: 500\n",
      "Accuracy: 0.8443\n",
      "F1-Score: 0.8459\n",
      "Recall: 0.8572\n",
      "------------------------------\n",
      "Max Features: 600\n",
      "Accuracy: 0.8507\n",
      "F1-Score: 0.8521\n",
      "Recall: 0.8624\n",
      "------------------------------\n",
      "Max Features: 700\n",
      "Accuracy: 0.8588\n",
      "F1-Score: 0.8601\n",
      "Recall: 0.8708\n",
      "------------------------------\n",
      "Max Features: 800\n",
      "Accuracy: 0.8643\n",
      "F1-Score: 0.8655\n",
      "Recall: 0.8754\n",
      "------------------------------\n",
      "Max Features: 900\n",
      "Accuracy: 0.8697\n",
      "F1-Score: 0.8709\n",
      "Recall: 0.8812\n",
      "------------------------------\n",
      "Max Features: 1000\n",
      "Accuracy: 0.8721\n",
      "F1-Score: 0.8729\n",
      "Recall: 0.8809\n",
      "------------------------------\n"
     ]
    }
   ],
   "source": [
    "# TASK C\n",
    "from sklearn.feature_extraction.text import CountVectorizer\n",
    "from sklearn.linear_model import LogisticRegression\n",
    "from sklearn.metrics import accuracy_score, f1_score, recall_score\n",
    "\n",
    "processed_text = pd.concat([disasterTweets['processed_text'], normalTweets['processed_text']])\n",
    "labels = [1] * len(disasterTweets) + [0] * len(normalTweets)\n",
    "\n",
    "def evaluate_model(max_features):\n",
    "    vectorizer = CountVectorizer(max_features=max_features) \n",
    "    features = vectorizer.fit_transform(processed_text)\n",
    "\n",
    "    model = LogisticRegression(max_iter=1000)  \n",
    "    model.fit(features, labels)\n",
    "\n",
    "    predictions = model.predict(features)\n",
    "    accuracy = accuracy_score(labels, predictions)\n",
    "    f1 = f1_score(labels, predictions, average='binary')  \n",
    "    recall = recall_score(labels, predictions)\n",
    "\n",
    "    print(f\"Max Features: {max_features}\")\n",
    "    print(f\"Accuracy: {accuracy:.4f}\")\n",
    "    print(f\"F1-Score: {f1:.4f}\")\n",
    "    print(f\"Recall: {recall:.4f}\")\n",
    "    print(\"-\" * 30)\n",
    "\n",
    "for max_features in range(100, 1100, 100):\n",
    "    evaluate_model(max_features)  "
   ]
  }
 ],
 "metadata": {
  "kernelspec": {
   "display_name": "Python 3",
   "language": "python",
   "name": "python3"
  },
  "language_info": {
   "codemirror_mode": {
    "name": "ipython",
    "version": 3
   },
   "file_extension": ".py",
   "mimetype": "text/x-python",
   "name": "python",
   "nbconvert_exporter": "python",
   "pygments_lexer": "ipython3",
   "version": "3.10.12"
  }
 },
 "nbformat": 4,
 "nbformat_minor": 2
}
